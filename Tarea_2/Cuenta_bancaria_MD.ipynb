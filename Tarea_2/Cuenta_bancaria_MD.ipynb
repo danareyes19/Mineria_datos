{
 "cells": [
  {
   "cell_type": "markdown",
   "id": "bb25beb5-f5d9-4793-bfde-a3bc8a57830a",
   "metadata": {},
   "source": [
    "<h1><font color='blue'><center>Minería de datos</center></font></h1>\n",
    "<h2><center>Tarea 2</center></h2>\n",
    "<h3><center>Dana Reyes</center></h3>"
   ]
  },
  {
   "cell_type": "markdown",
   "id": "bcd27b5b-fbca-4e45-b5f1-e0b617c146e1",
   "metadata": {},
   "source": [
    "<h2><font color='orchid'>Cuentas bancarias</font></h2>\n",
    "Utilizando el archivo csv con las cuentas bancarias que contiene el número de la cuenta, el nomre del cliente, el saldo actual y la fecha de la última transacción.\n",
    "Ecriba un código donde se implemente una clase iterable que al inicio abra el archivo y lo suba a un dataframe de Pandas. Y que luegos, entrege la información de la cuenta cuando se pida el número de la cuenta."
   ]
  },
  {
   "cell_type": "code",
   "execution_count": 376,
   "id": "d9fb0829-e67d-4c06-98e8-f9cf431a232a",
   "metadata": {},
   "outputs": [],
   "source": [
    "from pandas import read_csv\n",
    "class Cuenta:\n",
    "     \n",
    "    def from_csv(filepath):\n",
    "        df=read_csv(filepath, sep=\";\", index_col='no_cuenta')\n",
    "\n",
    "    def info():\n",
    "        ingresar = input('Número de la cuenta:')\n",
    "        \n",
    "        try:\n",
    "            return f\"\"\"Propietario de la cuenta: {df.nombre_cliente[int(ingresar)]},  Saldo actual: {df.saldo_actual[int(ingresar)]}, Fecha de última transacción: {df.fecha_ult_trans[int(ingresar)]}\"\"\"\n",
    "        except:\n",
    "            return 'No hay existencia de esa cuenta. Por favor revisar el número de la cuenta.'"
   ]
  },
  {
   "cell_type": "code",
   "execution_count": 15,
   "id": "8ca1ab9b-89dd-4917-bd6f-9089b79b93ef",
   "metadata": {},
   "outputs": [
    {
     "data": {
      "text/html": [
       "<div>\n",
       "<style scoped>\n",
       "    .dataframe tbody tr th:only-of-type {\n",
       "        vertical-align: middle;\n",
       "    }\n",
       "\n",
       "    .dataframe tbody tr th {\n",
       "        vertical-align: top;\n",
       "    }\n",
       "\n",
       "    .dataframe thead th {\n",
       "        text-align: right;\n",
       "    }\n",
       "</style>\n",
       "<table border=\"1\" class=\"dataframe\">\n",
       "  <thead>\n",
       "    <tr style=\"text-align: right;\">\n",
       "      <th></th>\n",
       "      <th>nombre_cliente</th>\n",
       "      <th>saldo_actual</th>\n",
       "      <th>fecha_ult_trans</th>\n",
       "    </tr>\n",
       "    <tr>\n",
       "      <th>no_cuenta</th>\n",
       "      <th></th>\n",
       "      <th></th>\n",
       "      <th></th>\n",
       "    </tr>\n",
       "  </thead>\n",
       "  <tbody>\n",
       "    <tr>\n",
       "      <th>123</th>\n",
       "      <td>Ana Montes</td>\n",
       "      <td>10000</td>\n",
       "      <td>12/07/2022</td>\n",
       "    </tr>\n",
       "    <tr>\n",
       "      <th>124</th>\n",
       "      <td>Beto Niño</td>\n",
       "      <td>500000</td>\n",
       "      <td>23/05/2022</td>\n",
       "    </tr>\n",
       "    <tr>\n",
       "      <th>125</th>\n",
       "      <td>Camilo Osorio</td>\n",
       "      <td>10000000</td>\n",
       "      <td>03/04/2022</td>\n",
       "    </tr>\n",
       "    <tr>\n",
       "      <th>126</th>\n",
       "      <td>Daniel Puebla</td>\n",
       "      <td>385000</td>\n",
       "      <td>12/02/2022</td>\n",
       "    </tr>\n",
       "    <tr>\n",
       "      <th>127</th>\n",
       "      <td>Elsa Rios</td>\n",
       "      <td>50000</td>\n",
       "      <td>24/12/2021</td>\n",
       "    </tr>\n",
       "    <tr>\n",
       "      <th>128</th>\n",
       "      <td>Fabio Sanchez</td>\n",
       "      <td>2800000</td>\n",
       "      <td>04/11/2022</td>\n",
       "    </tr>\n",
       "    <tr>\n",
       "      <th>129</th>\n",
       "      <td>Gabriela Torres</td>\n",
       "      <td>700000</td>\n",
       "      <td>15/09/2022</td>\n",
       "    </tr>\n",
       "    <tr>\n",
       "      <th>130</th>\n",
       "      <td>Ingacio Urrego</td>\n",
       "      <td>900000</td>\n",
       "      <td>27/12/2021</td>\n",
       "    </tr>\n",
       "    <tr>\n",
       "      <th>131</th>\n",
       "      <td>Javier Hurtado</td>\n",
       "      <td>37000</td>\n",
       "      <td>07/06/2022</td>\n",
       "    </tr>\n",
       "    <tr>\n",
       "      <th>132</th>\n",
       "      <td>Laura Quintero</td>\n",
       "      <td>1654000</td>\n",
       "      <td>18/10/2021</td>\n",
       "    </tr>\n",
       "  </tbody>\n",
       "</table>\n",
       "</div>"
      ],
      "text/plain": [
       "            nombre_cliente  saldo_actual fecha_ult_trans\n",
       "no_cuenta                                               \n",
       "123             Ana Montes         10000      12/07/2022\n",
       "124              Beto Niño        500000      23/05/2022\n",
       "125          Camilo Osorio      10000000      03/04/2022\n",
       "126          Daniel Puebla        385000      12/02/2022\n",
       "127              Elsa Rios         50000      24/12/2021\n",
       "128          Fabio Sanchez       2800000      04/11/2022\n",
       "129        Gabriela Torres        700000      15/09/2022\n",
       "130         Ingacio Urrego        900000      27/12/2021\n",
       "131         Javier Hurtado         37000      07/06/2022\n",
       "132         Laura Quintero       1654000      18/10/2021"
      ]
     },
     "execution_count": 15,
     "metadata": {},
     "output_type": "execute_result"
    }
   ],
   "source": [
    "Cuenta.from_csv('https://raw.githubusercontent.com/danareyes19/Mineria_datos/main/Tarea_2/cuentas_bancarias.csv')"
   ]
  },
  {
   "cell_type": "code",
   "execution_count": 377,
   "id": "6eb9acfa-681a-4888-a1bf-94d6e6327ef4",
   "metadata": {},
   "outputs": [
    {
     "name": "stdin",
     "output_type": "stream",
     "text": [
      "Número de la cuenta: 123\n"
     ]
    },
    {
     "data": {
      "text/plain": [
       "'Propietario de la cuenta: Ana Montes,  Saldo actual: 10000, Fecha de última transacción: 12/07/2022'"
      ]
     },
     "execution_count": 377,
     "metadata": {},
     "output_type": "execute_result"
    }
   ],
   "source": [
    "Cuenta.info()"
   ]
  },
  {
   "cell_type": "code",
   "execution_count": 373,
   "id": "9cebc6a1-449c-48f1-ba22-85d707ddac40",
   "metadata": {},
   "outputs": [
    {
     "name": "stdin",
     "output_type": "stream",
     "text": [
      "Número de la cuenta: 125\n"
     ]
    },
    {
     "data": {
      "text/plain": [
       "'Propietario de la cuenta: Camilo Osorio,  Saldo actual: 10000000, Fecha de última transacción: 03/04/2022'"
      ]
     },
     "execution_count": 373,
     "metadata": {},
     "output_type": "execute_result"
    }
   ],
   "source": [
    "Cuenta.info()"
   ]
  },
  {
   "cell_type": "code",
   "execution_count": 374,
   "id": "f11ecd62-c5b5-4fe7-afe3-64ef8d8dfc9d",
   "metadata": {},
   "outputs": [
    {
     "name": "stdin",
     "output_type": "stream",
     "text": [
      "Número de la cuenta: 130\n"
     ]
    },
    {
     "data": {
      "text/plain": [
       "'Propietario de la cuenta: Ingacio Urrego,  Saldo actual: 900000, Fecha de última transacción: 27/12/2021'"
      ]
     },
     "execution_count": 374,
     "metadata": {},
     "output_type": "execute_result"
    }
   ],
   "source": [
    "Cuenta.info()"
   ]
  },
  {
   "cell_type": "code",
   "execution_count": 378,
   "id": "85105c19-a787-40c9-96da-ab97480bdc93",
   "metadata": {},
   "outputs": [
    {
     "name": "stdin",
     "output_type": "stream",
     "text": [
      "Número de la cuenta: 135\n"
     ]
    },
    {
     "data": {
      "text/plain": [
       "'No hay existencia de esa cuenta. Por favor revisar el número de la cuenta.'"
      ]
     },
     "execution_count": 378,
     "metadata": {},
     "output_type": "execute_result"
    }
   ],
   "source": [
    "Cuenta.info()"
   ]
  }
 ],
 "metadata": {
  "kernelspec": {
   "display_name": "Python 3 (ipykernel)",
   "language": "python",
   "name": "python3"
  },
  "language_info": {
   "codemirror_mode": {
    "name": "ipython",
    "version": 3
   },
   "file_extension": ".py",
   "mimetype": "text/x-python",
   "name": "python",
   "nbconvert_exporter": "python",
   "pygments_lexer": "ipython3",
   "version": "3.9.12"
  }
 },
 "nbformat": 4,
 "nbformat_minor": 5
}
