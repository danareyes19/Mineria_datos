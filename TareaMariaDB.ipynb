{
 "cells": [
  {
   "cell_type": "markdown",
   "id": "7dfae39b",
   "metadata": {},
   "source": [
    "<h1><font color='blueviolet'><center>Minería de datos</center></font></h1>\n",
    "<h2> <center> Bases de Datos Sakila</center></h2>\n",
    "<center> Dana Reyes y Joseph Palomino</center>"
   ]
  },
  {
   "cell_type": "markdown",
   "id": "598de69c",
   "metadata": {},
   "source": [
    "Se trabajará la base de datos \"Sakila\"  mediante consultas a través de la consola de MariaDB directamente y una extensión de su kernel en JupyterLab. A continuación, se mostrará un gráfico hecho en Workbench donde se evidencia la estructura de la base de datos"
   ]
  },
  {
   "cell_type": "markdown",
   "id": "1f5453a7",
   "metadata": {},
   "source": [
    "<h3><font color='blueviolet'>Diagrama de entidad-relación</font></h3>"
   ]
  },
  {
   "cell_type": "code",
   "execution_count": 6,
   "id": "3ee89d22",
   "metadata": {},
   "outputs": [
    {
     "data": {
      "text/html": [
       "<img src=\"https://github.com/danareyes19/Mineria_datos/blob/main/Tarea%203/sakila-workbench.png?raw=true\" width=\"800\"/>"
      ],
      "text/plain": [
       "<IPython.core.display.Image object>"
      ]
     },
     "execution_count": 6,
     "metadata": {},
     "output_type": "execute_result"
    }
   ],
   "source": [
    "from IPython.display import Image\n",
    "Image(url='https://github.com/danareyes19/Mineria_datos/blob/main/Tarea%203/sakila-workbench.png?raw=true', width=800)"
   ]
  },
  {
   "cell_type": "markdown",
   "id": "91c6ecba",
   "metadata": {},
   "source": [
    "<h3><font color='blueviolet'>Consultas en la consola MariaDB</font></h3>"
   ]
  },
  {
   "cell_type": "code",
   "execution_count": 7,
   "id": "2ff2abe3",
   "metadata": {},
   "outputs": [
    {
     "data": {
      "text/html": [
       "<img src=\"https://github.com/danareyes19/Mineria_datos/blob/main/Tarea%203/Captura%20de%20pantalla%20(157).png?raw=true\" width=\"600\"/>"
      ],
      "text/plain": [
       "<IPython.core.display.Image object>"
      ]
     },
     "execution_count": 7,
     "metadata": {},
     "output_type": "execute_result"
    }
   ],
   "source": [
    "Image(url='https://github.com/danareyes19/Mineria_datos/blob/main/Tarea%203/Captura%20de%20pantalla%20(157).png?raw=true', width=600)"
   ]
  },
  {
   "cell_type": "code",
   "execution_count": 8,
   "id": "a0928ac5",
   "metadata": {},
   "outputs": [
    {
     "data": {
      "text/html": [
       "<img src=\"https://github.com/danareyes19/Mineria_datos/blob/main/Tarea%203/Captura%20de%20pantalla%20(158).png?raw=true\" width=\"600\"/>"
      ],
      "text/plain": [
       "<IPython.core.display.Image object>"
      ]
     },
     "execution_count": 8,
     "metadata": {},
     "output_type": "execute_result"
    }
   ],
   "source": [
    "Image(url='https://github.com/danareyes19/Mineria_datos/blob/main/Tarea%203/Captura%20de%20pantalla%20(158).png?raw=true', width=600)"
   ]
  },
  {
   "cell_type": "code",
   "execution_count": 9,
   "id": "2c87eb8e",
   "metadata": {},
   "outputs": [
    {
     "data": {
      "text/html": [
       "<img src=\"https://github.com/danareyes19/Mineria_datos/blob/main/Tarea%203/Captura%20de%20pantalla%20(159).png?raw=true\" width=\"600\"/>"
      ],
      "text/plain": [
       "<IPython.core.display.Image object>"
      ]
     },
     "execution_count": 9,
     "metadata": {},
     "output_type": "execute_result"
    }
   ],
   "source": [
    "Image(url='https://github.com/danareyes19/Mineria_datos/blob/main/Tarea%203/Captura%20de%20pantalla%20(159).png?raw=true', width=600)"
   ]
  },
  {
   "cell_type": "code",
   "execution_count": 10,
   "id": "ddecae8d",
   "metadata": {},
   "outputs": [
    {
     "data": {
      "text/html": [
       "<img src=\"https://github.com/danareyes19/Mineria_datos/blob/main/Tarea%203/Captura%20de%20pantalla%20(160).png?raw=true\" width=\"600\"/>"
      ],
      "text/plain": [
       "<IPython.core.display.Image object>"
      ]
     },
     "execution_count": 10,
     "metadata": {},
     "output_type": "execute_result"
    }
   ],
   "source": [
    "Image(url='https://github.com/danareyes19/Mineria_datos/blob/main/Tarea%203/Captura%20de%20pantalla%20(160).png?raw=true', width=600)"
   ]
  },
  {
   "cell_type": "code",
   "execution_count": 11,
   "id": "bfdf6a35",
   "metadata": {},
   "outputs": [
    {
     "data": {
      "text/html": [
       "<img src=\"https://github.com/danareyes19/Mineria_datos/blob/main/Tarea%203/Captura%20de%20pantalla%20(161).png?raw=true\" width=\"600\"/>"
      ],
      "text/plain": [
       "<IPython.core.display.Image object>"
      ]
     },
     "execution_count": 11,
     "metadata": {},
     "output_type": "execute_result"
    }
   ],
   "source": [
    "Image(url='https://github.com/danareyes19/Mineria_datos/blob/main/Tarea%203/Captura%20de%20pantalla%20(161).png?raw=true', width=600)"
   ]
  },
  {
   "cell_type": "code",
   "execution_count": 12,
   "id": "846fa156",
   "metadata": {},
   "outputs": [
    {
     "data": {
      "text/html": [
       "<img src=\"https://github.com/danareyes19/Mineria_datos/blob/main/Tarea%203/Captura%20de%20pantalla%20(162).png?raw=true\" width=\"600\"/>"
      ],
      "text/plain": [
       "<IPython.core.display.Image object>"
      ]
     },
     "execution_count": 12,
     "metadata": {},
     "output_type": "execute_result"
    }
   ],
   "source": [
    "Image(url='https://github.com/danareyes19/Mineria_datos/blob/main/Tarea%203/Captura%20de%20pantalla%20(162).png?raw=true', width=600)"
   ]
  },
  {
   "cell_type": "code",
   "execution_count": 13,
   "id": "b9b246f7",
   "metadata": {},
   "outputs": [
    {
     "data": {
      "text/html": [
       "<img src=\"https://github.com/danareyes19/Mineria_datos/blob/main/Tarea%203/Captura%20de%20pantalla%20(163).png?raw=true\" width=\"600\"/>"
      ],
      "text/plain": [
       "<IPython.core.display.Image object>"
      ]
     },
     "execution_count": 13,
     "metadata": {},
     "output_type": "execute_result"
    }
   ],
   "source": [
    "Image(url='https://github.com/danareyes19/Mineria_datos/blob/main/Tarea%203/Captura%20de%20pantalla%20(163).png?raw=true', width=600)"
   ]
  },
  {
   "cell_type": "code",
   "execution_count": 14,
   "id": "e2377438",
   "metadata": {},
   "outputs": [
    {
     "data": {
      "text/html": [
       "<img src=\"https://github.com/danareyes19/Mineria_datos/blob/main/Tarea%203/Captura%20de%20pantalla%20(164).png?raw=true\" width=\"600\"/>"
      ],
      "text/plain": [
       "<IPython.core.display.Image object>"
      ]
     },
     "execution_count": 14,
     "metadata": {},
     "output_type": "execute_result"
    }
   ],
   "source": [
    "Image(url='https://github.com/danareyes19/Mineria_datos/blob/main/Tarea%203/Captura%20de%20pantalla%20(164).png?raw=true', width=600)"
   ]
  },
  {
   "cell_type": "code",
   "execution_count": 15,
   "id": "d338107d",
   "metadata": {},
   "outputs": [
    {
     "data": {
      "text/html": [
       "<img src=\"https://github.com/danareyes19/Mineria_datos/blob/main/Tarea%203/Captura%20de%20pantalla%20(165).png?raw=true\" width=\"600\"/>"
      ],
      "text/plain": [
       "<IPython.core.display.Image object>"
      ]
     },
     "execution_count": 15,
     "metadata": {},
     "output_type": "execute_result"
    }
   ],
   "source": [
    "Image(url='https://github.com/danareyes19/Mineria_datos/blob/main/Tarea%203/Captura%20de%20pantalla%20(165).png?raw=true', width=600)"
   ]
  },
  {
   "cell_type": "code",
   "execution_count": 16,
   "id": "f617e09d",
   "metadata": {},
   "outputs": [
    {
     "data": {
      "text/html": [
       "<img src=\"https://github.com/danareyes19/Mineria_datos/blob/main/Tarea%203/Captura%20de%20pantalla%20(166).png?raw=true\" width=\"600\"/>"
      ],
      "text/plain": [
       "<IPython.core.display.Image object>"
      ]
     },
     "execution_count": 16,
     "metadata": {},
     "output_type": "execute_result"
    }
   ],
   "source": [
    "Image(url='https://github.com/danareyes19/Mineria_datos/blob/main/Tarea%203/Captura%20de%20pantalla%20(166).png?raw=true', width=600)"
   ]
  },
  {
   "cell_type": "code",
   "execution_count": 17,
   "id": "89cfb509",
   "metadata": {},
   "outputs": [
    {
     "data": {
      "text/html": [
       "<img src=\"https://github.com/danareyes19/Mineria_datos/blob/main/Tarea%203/Captura%20de%20pantalla%20(167).png?raw=true\" width=\"600\"/>"
      ],
      "text/plain": [
       "<IPython.core.display.Image object>"
      ]
     },
     "execution_count": 17,
     "metadata": {},
     "output_type": "execute_result"
    }
   ],
   "source": [
    "Image(url='https://github.com/danareyes19/Mineria_datos/blob/main/Tarea%203/Captura%20de%20pantalla%20(167).png?raw=true', width=600)"
   ]
  },
  {
   "cell_type": "code",
   "execution_count": 18,
   "id": "e3f97efa",
   "metadata": {},
   "outputs": [
    {
     "data": {
      "text/html": [
       "<img src=\"https://github.com/danareyes19/Mineria_datos/blob/main/Tarea%203/Captura%20de%20pantalla%20(168).png?raw=true\" width=\"600\"/>"
      ],
      "text/plain": [
       "<IPython.core.display.Image object>"
      ]
     },
     "execution_count": 18,
     "metadata": {},
     "output_type": "execute_result"
    }
   ],
   "source": [
    "Image(url='https://github.com/danareyes19/Mineria_datos/blob/main/Tarea%203/Captura%20de%20pantalla%20(168).png?raw=true', width=600)"
   ]
  },
  {
   "cell_type": "code",
   "execution_count": 19,
   "id": "5f59a998",
   "metadata": {},
   "outputs": [
    {
     "data": {
      "text/html": [
       "<img src=\"https://github.com/danareyes19/Mineria_datos/blob/main/Tarea%203/Captura%20de%20pantalla%20(169).png?raw=true\" width=\"600\"/>"
      ],
      "text/plain": [
       "<IPython.core.display.Image object>"
      ]
     },
     "execution_count": 19,
     "metadata": {},
     "output_type": "execute_result"
    }
   ],
   "source": [
    "Image(url='https://github.com/danareyes19/Mineria_datos/blob/main/Tarea%203/Captura%20de%20pantalla%20(169).png?raw=true', width=600)"
   ]
  },
  {
   "cell_type": "code",
   "execution_count": 20,
   "id": "2e7cad50",
   "metadata": {},
   "outputs": [
    {
     "data": {
      "text/html": [
       "<img src=\"https://github.com/danareyes19/Mineria_datos/blob/main/Tarea%203/Captura%20de%20pantalla%20(170).png?raw=true\" width=\"600\"/>"
      ],
      "text/plain": [
       "<IPython.core.display.Image object>"
      ]
     },
     "execution_count": 20,
     "metadata": {},
     "output_type": "execute_result"
    }
   ],
   "source": [
    "Image(url='https://github.com/danareyes19/Mineria_datos/blob/main/Tarea%203/Captura%20de%20pantalla%20(170).png?raw=true', width=600)"
   ]
  },
  {
   "cell_type": "code",
   "execution_count": 21,
   "id": "fa1f4f9b",
   "metadata": {},
   "outputs": [
    {
     "data": {
      "text/html": [
       "<img src=\"https://github.com/danareyes19/Mineria_datos/blob/main/Tarea%203/Captura%20de%20pantalla%20(171).png?raw=true\" width=\"600\"/>"
      ],
      "text/plain": [
       "<IPython.core.display.Image object>"
      ]
     },
     "execution_count": 21,
     "metadata": {},
     "output_type": "execute_result"
    }
   ],
   "source": [
    "Image(url='https://github.com/danareyes19/Mineria_datos/blob/main/Tarea%203/Captura%20de%20pantalla%20(171).png?raw=true', width=600)"
   ]
  },
  {
   "cell_type": "code",
   "execution_count": 22,
   "id": "79fb9588",
   "metadata": {},
   "outputs": [
    {
     "data": {
      "text/html": [
       "<img src=\"https://github.com/danareyes19/Mineria_datos/blob/main/Tarea%203/Captura%20de%20pantalla%20(172).png?raw=true\" width=\"600\"/>"
      ],
      "text/plain": [
       "<IPython.core.display.Image object>"
      ]
     },
     "execution_count": 22,
     "metadata": {},
     "output_type": "execute_result"
    }
   ],
   "source": [
    "Image(url='https://github.com/danareyes19/Mineria_datos/blob/main/Tarea%203/Captura%20de%20pantalla%20(172).png?raw=true', width=600)"
   ]
  },
  {
   "cell_type": "markdown",
   "id": "dd40b624",
   "metadata": {},
   "source": [
    "<h3><font color='blueviolet'>Base de datos sqlalchemy</font></h3>"
   ]
  },
  {
   "cell_type": "code",
   "execution_count": 25,
   "id": "a63bd276",
   "metadata": {},
   "outputs": [
    {
     "data": {
      "text/html": [
       "<img src=\"https://github.com/danareyes19/Mineria_datos/blob/main/Tarea%203/skalmy1.png?raw=true\" width=\"600\"/>"
      ],
      "text/plain": [
       "<IPython.core.display.Image object>"
      ]
     },
     "execution_count": 25,
     "metadata": {},
     "output_type": "execute_result"
    }
   ],
   "source": [
    "Image(url='https://github.com/danareyes19/Mineria_datos/blob/main/Tarea%203/skalmy1.png?raw=true',width=600)"
   ]
  },
  {
   "cell_type": "code",
   "execution_count": 27,
   "id": "a6a80820",
   "metadata": {},
   "outputs": [
    {
     "data": {
      "text/html": [
       "<img src=\"https://github.com/danareyes19/Mineria_datos/blob/main/Tarea%203/skalmy2.png?raw=true\" width=\"600\"/>"
      ],
      "text/plain": [
       "<IPython.core.display.Image object>"
      ]
     },
     "execution_count": 27,
     "metadata": {},
     "output_type": "execute_result"
    }
   ],
   "source": [
    "Image(url='https://github.com/danareyes19/Mineria_datos/blob/main/Tarea%203/skalmy2.png?raw=true',width=600)"
   ]
  },
  {
   "cell_type": "code",
   "execution_count": 28,
   "id": "fc511a64",
   "metadata": {},
   "outputs": [
    {
     "data": {
      "text/html": [
       "<img src=\"https://github.com/danareyes19/Mineria_datos/blob/main/Tarea%203/skalmy3.png?raw=true\" width=\"600\"/>"
      ],
      "text/plain": [
       "<IPython.core.display.Image object>"
      ]
     },
     "execution_count": 28,
     "metadata": {},
     "output_type": "execute_result"
    }
   ],
   "source": [
    "Image(url='https://github.com/danareyes19/Mineria_datos/blob/main/Tarea%203/skalmy3.png?raw=true',width=600)"
   ]
  },
  {
   "cell_type": "code",
   "execution_count": 30,
   "id": "7502b54f",
   "metadata": {},
   "outputs": [
    {
     "data": {
      "text/html": [
       "<img src=\"https://github.com/danareyes19/Mineria_datos/blob/main/Tarea%203/skalmy4.png?raw=true\" width=\"600\"/>"
      ],
      "text/plain": [
       "<IPython.core.display.Image object>"
      ]
     },
     "execution_count": 30,
     "metadata": {},
     "output_type": "execute_result"
    }
   ],
   "source": [
    "Image(url='https://github.com/danareyes19/Mineria_datos/blob/main/Tarea%203/skalmy4.png?raw=true',width=600)"
   ]
  },
  {
   "cell_type": "code",
   "execution_count": null,
   "id": "808bbffb",
   "metadata": {},
   "outputs": [],
   "source": []
  }
 ],
 "metadata": {
  "kernelspec": {
   "display_name": "MariaDB",
   "language": "SQL",
   "name": "mariadb_kernel"
  },
  "language_info": {
   "codemirror_mode": {
    "name": "ipython",
    "version": 3
   },
   "file_extension": ".py",
   "mimetype": "text/x-python",
   "name": "python",
   "nbconvert_exporter": "python",
   "pygments_lexer": "ipython3",
   "version": "3.9.12"
  }
 },
 "nbformat": 4,
 "nbformat_minor": 5
}
