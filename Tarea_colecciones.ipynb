{
 "cells": [
  {
   "cell_type": "markdown",
   "id": "639a51ab-29a8-48d1-97ea-47cb227d5595",
   "metadata": {},
   "source": [
    "<h1><font color='blue'><center>Minería de datos</center></font></h1>\n",
    "<h2><center>Tarea 2</center></h2>\n",
    "<h3><center>Dana Reyes</center></h3>"
   ]
  },
  {
   "cell_type": "markdown",
   "id": "0c912b31-e811-4371-ad11-74ec90873f36",
   "metadata": {},
   "source": [
    "<h2><font color='orchid'>Colecciones</font></h2>\n",
    "Las colecciones son contenedores de objetos de mismo tipo. En Python estas colecciones son **tuplas**, **listas**, **conjuntos** y **diccionarios**. A continuación se muestran dos ejercicos donde se implentan estas.\n",
    "<h3><font color='lightskyblue'><b>Ejercicio 1:</b></font></h3>\n",
    "\n",
    "Defina un diccionario de al menos 4 llaves de tal manera que una de las llaves sea tupla, otra lista, otra conjunto y otra un diccionario. Luego, acceda a cada elemento. "
   ]
  },
  {
   "cell_type": "code",
   "execution_count": 166,
   "id": "a306090d-9dba-45e9-a160-30fcb519f72e",
   "metadata": {},
   "outputs": [
    {
     "name": "stdout",
     "output_type": "stream",
     "text": [
      "<class 'list'>\n",
      "<class 'set'>\n",
      "<class 'tuple'>\n",
      "<class 'dict'>\n",
      "{'Ana': 20, 'Beto': [35, 36], 'Camilo': {18, 19, 20}, ('Fabio', 'Elsa', 'Daniela'): (38, 39, 40), 'Nicole': {'a': 39, 'b': 29}}\n"
     ]
    }
   ],
   "source": [
    "b=[35,36]\n",
    "c = {18,19,20}\n",
    "d = (38,39,40)\n",
    "e={'a':39,'b':29}\n",
    "diccionario = {'Ana':20, 'Beto':b, 'Camilo':c,('Fabio','Elsa','Daniela'):d,'Nicole':e}\n",
    "print(type(b))\n",
    "print(type(c))\n",
    "print(type(d))\n",
    "print(type(e))\n",
    "print (diccionario)"
   ]
  },
  {
   "cell_type": "code",
   "execution_count": 167,
   "id": "0a26d838-f1e0-4e2c-8662-627c4872a05b",
   "metadata": {},
   "outputs": [
    {
     "data": {
      "text/plain": [
       "20"
      ]
     },
     "execution_count": 167,
     "metadata": {},
     "output_type": "execute_result"
    }
   ],
   "source": [
    "diccionario['Ana']"
   ]
  },
  {
   "cell_type": "code",
   "execution_count": 168,
   "id": "29fe643c-61ea-4a79-8e42-6bbe7a394d5c",
   "metadata": {},
   "outputs": [
    {
     "name": "stdout",
     "output_type": "stream",
     "text": [
      "[35, 36]\n",
      "35\n"
     ]
    },
    {
     "data": {
      "text/plain": [
       "36"
      ]
     },
     "execution_count": 168,
     "metadata": {},
     "output_type": "execute_result"
    }
   ],
   "source": [
    "print(diccionario['Beto'])\n",
    "print(diccionario['Beto'][0])\n",
    "diccionario['Beto'][1]"
   ]
  },
  {
   "cell_type": "code",
   "execution_count": 169,
   "id": "9f5234b6-cd60-4778-b913-14daa460f003",
   "metadata": {},
   "outputs": [
    {
     "data": {
      "text/plain": [
       "{18, 19, 20}"
      ]
     },
     "execution_count": 169,
     "metadata": {},
     "output_type": "execute_result"
    }
   ],
   "source": [
    "diccionario['Camilo']"
   ]
  },
  {
   "cell_type": "code",
   "execution_count": 170,
   "id": "5604bf13-0b4a-47f9-b560-7da5bf2e6bd4",
   "metadata": {},
   "outputs": [
    {
     "name": "stdout",
     "output_type": "stream",
     "text": [
      "(38, 39, 40)\n",
      "38\n",
      "39\n"
     ]
    },
    {
     "data": {
      "text/plain": [
       "40"
      ]
     },
     "execution_count": 170,
     "metadata": {},
     "output_type": "execute_result"
    }
   ],
   "source": [
    "print(diccionario[('Fabio','Elsa','Daniela')])\n",
    "print(diccionario[('Fabio','Elsa','Daniela')][0])\n",
    "print(diccionario[('Fabio','Elsa','Daniela')][1])\n",
    "diccionario[('Fabio','Elsa','Daniela')][2]"
   ]
  },
  {
   "cell_type": "code",
   "execution_count": 171,
   "id": "f7c866f2-5268-4946-bfe4-936454ce90b7",
   "metadata": {},
   "outputs": [
    {
     "name": "stdout",
     "output_type": "stream",
     "text": [
      "{'a': 39, 'b': 29}\n",
      "39\n"
     ]
    },
    {
     "data": {
      "text/plain": [
       "29"
      ]
     },
     "execution_count": 171,
     "metadata": {},
     "output_type": "execute_result"
    }
   ],
   "source": [
    "print(diccionario['Nicole'])\n",
    "print(diccionario['Nicole']['a'])\n",
    "diccionario['Nicole']['b']"
   ]
  },
  {
   "cell_type": "markdown",
   "id": "15566f68-f6c1-47a2-b7de-4539f8d89354",
   "metadata": {},
   "source": [
    "<h3><font color='lightskyblue'><b>Ejercicio 2:</b></font></h3>\n",
    "Recordemos que los métodos que se pueden utilizar en un diccionario son:\n",
    "\n",
    "* **clear()**: Eliminar los elemntos del diccionario.\n",
    "* **copy()**: Genera una copia del diccionario.\n",
    "* **get(clave[,valor])**: Devuelve el valor de la clave.\n",
    "* **items()**: Devuelve tuplas de cada llave con sus valores respectivos.\n",
    "* **keys()**: Devuelve las llaves del diccionario.\n",
    "* **pop(clave,[valor])**: Devuelve el valor del elemento de la clave y lo elimina del diccionario.\n",
    "* **popitem()**: Devueleve aleatoriamente el valor de una llave con su valor respectivo.\n",
    "* **setdefault(clave,[valor])**: Devuelve el valor de una llave y si esta cleve no exite la crea con los valores asignados.\n",
    "* **update(iterable)**:\n",
    "* **values()**: Devuleve los valores de las llaves.\n",
    "\n",
    "Utilizar los diferentes métodos de los diccionarios para un diccionario sobre cuentas bancarias."
   ]
  },
  {
   "cell_type": "code",
   "execution_count": 172,
   "id": "d3eb4755-8a9f-4efd-9e13-d45f670e8910",
   "metadata": {},
   "outputs": [],
   "source": [
    "cuentas = {\n",
    "    'numero_cuenta': (123,124,125,126,127),\n",
    "    'cliente': ('Ana', 'Beto', 'Camilo', 'Daniel', 'Fabio'),\n",
    "    'saldo': [500,400,50,1000,170]\n",
    "}"
   ]
  },
  {
   "cell_type": "code",
   "execution_count": 173,
   "id": "6373d3c5-f592-4899-8646-d02072eb4501",
   "metadata": {},
   "outputs": [
    {
     "data": {
      "text/plain": [
       "{'numero_cuenta': (123, 124, 125, 126, 127),\n",
       " 'cliente': ('Ana', 'Beto', 'Camilo', 'Daniel', 'Fabio'),\n",
       " 'saldo': [500, 400, 50, 1000, 170]}"
      ]
     },
     "execution_count": 173,
     "metadata": {},
     "output_type": "execute_result"
    }
   ],
   "source": [
    "cuentas.copy()"
   ]
  },
  {
   "cell_type": "code",
   "execution_count": 174,
   "id": "45de5019-ce14-4d58-a79d-88febf26f597",
   "metadata": {},
   "outputs": [
    {
     "data": {
      "text/plain": [
       "dict_values([(123, 124, 125, 126, 127), ('Ana', 'Beto', 'Camilo', 'Daniel', 'Fabio'), [500, 400, 50, 1000, 170]])"
      ]
     },
     "execution_count": 174,
     "metadata": {},
     "output_type": "execute_result"
    }
   ],
   "source": [
    "cuentas.values()"
   ]
  },
  {
   "cell_type": "code",
   "execution_count": 175,
   "id": "b4700ef2-a39b-454f-81c6-8cb4da89f11d",
   "metadata": {},
   "outputs": [
    {
     "data": {
      "text/plain": [
       "('saldo', [500, 400, 50, 1000, 170])"
      ]
     },
     "execution_count": 175,
     "metadata": {},
     "output_type": "execute_result"
    }
   ],
   "source": [
    "cuentas.popitem()"
   ]
  },
  {
   "cell_type": "code",
   "execution_count": 176,
   "id": "b4976559-532f-494f-be2e-5ce5de7b6472",
   "metadata": {},
   "outputs": [
    {
     "data": {
      "text/plain": [
       "{'numero_cuenta': (123, 124, 125, 126, 127),\n",
       " 'cliente': ('Ana', 'Beto', 'Camilo', 'Daniel', 'Fabio'),\n",
       " 'saldo': [500, 400, 50, 1000, 170]}"
      ]
     },
     "execution_count": 176,
     "metadata": {},
     "output_type": "execute_result"
    }
   ],
   "source": [
    "cuentas2 = dict(saldo=[500, 400, 50, 1000, 170])\n",
    "cuentas.update(cuentas2)\n",
    "cuentas"
   ]
  },
  {
   "cell_type": "code",
   "execution_count": 177,
   "id": "98c0420c-1b30-47a9-aeb5-57eedf062eba",
   "metadata": {},
   "outputs": [
    {
     "data": {
      "text/plain": [
       "('Ana', 'Beto', 'Camilo', 'Daniel', 'Fabio')"
      ]
     },
     "execution_count": 177,
     "metadata": {},
     "output_type": "execute_result"
    }
   ],
   "source": [
    "cuentas.pop('cliente')"
   ]
  },
  {
   "cell_type": "code",
   "execution_count": 178,
   "id": "e2755f47-06d1-4b63-9c16-39cd273ea9f6",
   "metadata": {},
   "outputs": [
    {
     "data": {
      "text/plain": [
       "dict_keys(['numero_cuenta', 'saldo'])"
      ]
     },
     "execution_count": 178,
     "metadata": {},
     "output_type": "execute_result"
    }
   ],
   "source": [
    "cuentas.keys()"
   ]
  },
  {
   "cell_type": "code",
   "execution_count": 179,
   "id": "8a3fdb34-3fe4-435f-8283-d3bb16124aad",
   "metadata": {},
   "outputs": [
    {
     "data": {
      "text/plain": [
       "('Ana', 'Beto', 'Camilo', 'Daniel', 'Fabio')"
      ]
     },
     "execution_count": 179,
     "metadata": {},
     "output_type": "execute_result"
    }
   ],
   "source": [
    "cuentas.setdefault('cliente',('Ana', 'Beto', 'Camilo', 'Daniel', 'Fabio'))"
   ]
  },
  {
   "cell_type": "code",
   "execution_count": 180,
   "id": "20467bc2-d5cc-4624-a4dc-e247500e0e47",
   "metadata": {},
   "outputs": [
    {
     "data": {
      "text/plain": [
       "dict_items([('numero_cuenta', (123, 124, 125, 126, 127)), ('saldo', [500, 400, 50, 1000, 170]), ('cliente', ('Ana', 'Beto', 'Camilo', 'Daniel', 'Fabio'))])"
      ]
     },
     "execution_count": 180,
     "metadata": {},
     "output_type": "execute_result"
    }
   ],
   "source": [
    "cuentas.items()"
   ]
  }
 ],
 "metadata": {
  "kernelspec": {
   "display_name": "Python 3 (ipykernel)",
   "language": "python",
   "name": "python3"
  },
  "language_info": {
   "codemirror_mode": {
    "name": "ipython",
    "version": 3
   },
   "file_extension": ".py",
   "mimetype": "text/x-python",
   "name": "python",
   "nbconvert_exporter": "python",
   "pygments_lexer": "ipython3",
   "version": "3.9.12"
  }
 },
 "nbformat": 4,
 "nbformat_minor": 5
}
